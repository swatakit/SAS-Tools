{
 "cells": [
  {
   "cell_type": "markdown",
   "metadata": {},
   "source": [
    "<font face=\"Verdana, cursive, sans-serif\" >\n",
    "<center><H1>Anomaly Detection with PRIDIT</H1></center>\n",
    "\n",
    "<center><H2><font color='darkred'>How to convert categorical variables to RIDIT score and implement PRIDIT </font></H2></center>\n",
    "\n",
    "<p>This Python Jupyter Notebooks is a counter-part of <a href=\"https://nbviewer.jupyter.org/github/swatakit/SAS-Tools/blob/master/Anomaly%20Detection%20with%20PRIDIT%20-%20SAS.ipynb\"><b>Anomaly Detection with PRIDIT - SAS</b></a>.\n",
    "    \n",
    "Note that we follows Bross(1958) for RIDIT transformation - the results maybe different than SAS due rounding error and RIDIT methodology used in PROC FREQ"
   ]
  },
  {
   "cell_type": "markdown",
   "metadata": {},
   "source": [
    "<font face=\"Verdana, cursive, sans-serif\" >\n",
    "<b>Import libraries</b>"
   ]
  },
  {
   "cell_type": "code",
   "execution_count": 1,
   "metadata": {},
   "outputs": [],
   "source": [
    "import pandas as pd\n",
    "import numpy as np\n",
    "import seaborn as sns\n",
    "import matplotlib.pyplot as plt\n",
    "%matplotlib inline\n",
    "import seaborn as sns\n",
    "sns.set()"
   ]
  },
  {
   "cell_type": "markdown",
   "metadata": {},
   "source": [
    "<font face=\"Verdana, cursive, sans-serif\" >\n",
    "<b>Read data</b>"
   ]
  },
  {
   "cell_type": "code",
   "execution_count": 2,
   "metadata": {},
   "outputs": [
    {
     "data": {
      "text/html": [
       "<div>\n",
       "<style scoped>\n",
       "    .dataframe tbody tr th:only-of-type {\n",
       "        vertical-align: middle;\n",
       "    }\n",
       "\n",
       "    .dataframe tbody tr th {\n",
       "        vertical-align: top;\n",
       "    }\n",
       "\n",
       "    .dataframe thead th {\n",
       "        text-align: right;\n",
       "    }\n",
       "</style>\n",
       "<table border=\"1\" class=\"dataframe\">\n",
       "  <thead>\n",
       "    <tr style=\"text-align: right;\">\n",
       "      <th></th>\n",
       "      <th>R1</th>\n",
       "      <th>R2</th>\n",
       "      <th>R3</th>\n",
       "      <th>R4</th>\n",
       "    </tr>\n",
       "  </thead>\n",
       "  <tbody>\n",
       "    <tr>\n",
       "      <th>0</th>\n",
       "      <td>1.0</td>\n",
       "      <td>1.0</td>\n",
       "      <td>0.0</td>\n",
       "      <td>1.0</td>\n",
       "    </tr>\n",
       "    <tr>\n",
       "      <th>1</th>\n",
       "      <td>0.0</td>\n",
       "      <td>1.0</td>\n",
       "      <td>0.0</td>\n",
       "      <td>0.0</td>\n",
       "    </tr>\n",
       "    <tr>\n",
       "      <th>2</th>\n",
       "      <td>1.0</td>\n",
       "      <td>1.0</td>\n",
       "      <td>0.0</td>\n",
       "      <td>0.0</td>\n",
       "    </tr>\n",
       "    <tr>\n",
       "      <th>3</th>\n",
       "      <td>0.0</td>\n",
       "      <td>1.0</td>\n",
       "      <td>1.0</td>\n",
       "      <td>1.0</td>\n",
       "    </tr>\n",
       "    <tr>\n",
       "      <th>4</th>\n",
       "      <td>0.0</td>\n",
       "      <td>0.0</td>\n",
       "      <td>0.0</td>\n",
       "      <td>0.0</td>\n",
       "    </tr>\n",
       "  </tbody>\n",
       "</table>\n",
       "</div>"
      ],
      "text/plain": [
       "    R1   R2   R3   R4\n",
       "0  1.0  1.0  0.0  1.0\n",
       "1  0.0  1.0  0.0  0.0\n",
       "2  1.0  1.0  0.0  0.0\n",
       "3  0.0  1.0  1.0  1.0\n",
       "4  0.0  0.0  0.0  0.0"
      ]
     },
     "execution_count": 2,
     "metadata": {},
     "output_type": "execute_result"
    }
   ],
   "source": [
    "rule_filename = './sasdata/rules_data.sas7bdat'\n",
    "rule_columns_start = 'R1'\n",
    "rule_columns_end = 'R4'\n",
    "data = pd.read_sas(rule_filename, encoding='iso-8859-1')\n",
    "data.head()"
   ]
  },
  {
   "cell_type": "markdown",
   "metadata": {},
   "source": [
    "<font face=\"Verdana, cursive, sans-serif\" >\n",
    "<b>RIDIT transformation - Bross(1958)</b>"
   ]
  },
  {
   "cell_type": "code",
   "execution_count": 3,
   "metadata": {},
   "outputs": [
    {
     "name": "stdout",
     "output_type": "stream",
     "text": [
      "Class - 1\n",
      "==========\n",
      "R1   0.16666666666666666\n",
      "R2   0.21666666666666667\n",
      "R3   0.18333333333333332\n",
      "R4   0.23333333333333334\n",
      "Class - 0\n",
      "==========\n",
      "R1   0.6666666666666666\n",
      "R2   0.7166666666666667\n",
      "R3   0.6833333333333333\n",
      "R4   0.7333333333333334\n",
      "============================================================\n",
      "    R1   R2   R3   R4      P_R1      P_R2      P_R3      P_R4\n",
      "0  1.0  1.0  0.0  1.0  0.166667  0.216667  0.683333  0.233333\n",
      "1  0.0  1.0  0.0  0.0  0.666667  0.216667  0.683333  0.733333\n",
      "2  1.0  1.0  0.0  0.0  0.166667  0.216667  0.683333  0.733333\n",
      "3  0.0  1.0  1.0  1.0  0.666667  0.216667  0.183333  0.233333\n",
      "4  0.0  0.0  0.0  0.0  0.666667  0.716667  0.683333  0.733333\n"
     ]
    }
   ],
   "source": [
    "#Do RIDIT transformation\n",
    "\n",
    "rules = data.loc[:,rule_columns_start:rule_columns_end]\n",
    "dict_ridits_1 = {}\n",
    "dict_ridits_0 = {}\n",
    "\n",
    "for rule in rules:\n",
    "    try:\n",
    "        r = data[rule].value_counts()\n",
    "        p_1 = r[1]/np.sum(r)\n",
    "        p_0 = r[0]/np.sum(r)\n",
    "        ridit_1 = (0.5 * p_1)\n",
    "        ridit_0 = (p_1+0.5*p_0)\n",
    "        #replace 0,1 with ridits\n",
    "        rule_name='P_'+str(rule)\n",
    "        data[rule_name]=data[rule].map({1:ridit_1,0:ridit_0})\n",
    "        dict_ridits_1.update({str(rule):ridit_1})\n",
    "        dict_ridits_0.update({str(rule):ridit_0})\n",
    "        \n",
    "    except :\n",
    "        #there maybe some problem with some rules, that is, a rule with all zero.\n",
    "        print(bold,red,\"Warning!! Problem converting rule = {}\".format(rule))\n",
    "\n",
    "print(\"Class - 1\")\n",
    "print(\"=\"*10)\n",
    "for key,value in dict_ridits_1.items():\n",
    "    print(key,' ',value )\n",
    "print(\"Class - 0\")\n",
    "print(\"=\"*10)\n",
    "for key,value in dict_ridits_0.items():\n",
    "    print(key,' ',value )\n",
    "    \n",
    "print(\"=\"*60)\n",
    "print(data.head())"
   ]
  },
  {
   "cell_type": "markdown",
   "metadata": {},
   "source": [
    "<font face=\"Verdana, cursive, sans-serif\" >\n",
    "<b>PRIDIT - Brockett et al(2002)</b>"
   ]
  },
  {
   "cell_type": "code",
   "execution_count": 4,
   "metadata": {},
   "outputs": [],
   "source": [
    "keys_p = ['P_'+ x for x in dict_ridits_1.keys()]"
   ]
  },
  {
   "cell_type": "code",
   "execution_count": 5,
   "metadata": {},
   "outputs": [
    {
     "name": "stdout",
     "output_type": "stream",
     "text": [
      "Eigen values : \n",
      " [1.38245392 1.07525733 0.70150042 0.84078832]\n",
      "\n",
      "Total components to keep : 2\n"
     ]
    }
   ],
   "source": [
    "#Gets only  the good rules\n",
    "ridits = data.loc[:,keys_p].values\n",
    "\n",
    "#Determine how many components to retain by Kaiser rule, eigen values>1\n",
    "cor_mat = np.corrcoef(ridits.T)\n",
    "eig_vals,eig_vecs = np.linalg.eig(cor_mat)\n",
    "n_pca = np.count_nonzero(eig_vals>1)\n",
    "print(\"Eigen values : \\n\",eig_vals)\n",
    "print(\"\\nTotal components to keep : {}\".format(n_pca))"
   ]
  },
  {
   "cell_type": "code",
   "execution_count": 6,
   "metadata": {},
   "outputs": [],
   "source": [
    "from sklearn.decomposition import PCA\n",
    "pca = PCA(n_components=n_pca)\n",
    "pca.fit(ridits)\n",
    "pridit =  pca.transform(ridits)\n"
   ]
  },
  {
   "cell_type": "code",
   "execution_count": 7,
   "metadata": {},
   "outputs": [],
   "source": [
    "pridit_df = pd.DataFrame(pridit)\n",
    "pridit_df.columns = ['PRIDIT1','PRIDIT2']"
   ]
  },
  {
   "cell_type": "code",
   "execution_count": 8,
   "metadata": {},
   "outputs": [
    {
     "data": {
      "text/plain": [
       "(array([5., 9., 6., 3., 5., 2.]),\n",
       " array([-0.40925362, -0.2434112 , -0.07756877,  0.08827365,  0.25411607,\n",
       "         0.4199585 ,  0.58580092]),\n",
       " <a list of 6 Patch objects>)"
      ]
     },
     "execution_count": 8,
     "metadata": {},
     "output_type": "execute_result"
    },
    {
     "data": {
      "image/png": "[encoded data removed]",
      "text/plain": [
       "<Figure size 432x288 with 1 Axes>"
      ]
     },
     "metadata": {},
     "output_type": "display_data"
    }
   ],
   "source": [
    "plt.hist(pridit_df.loc[:,'PRIDIT1'].dropna(),density=False,bins=6)"
   ]
  },
  {
   "cell_type": "code",
   "execution_count": null,
   "metadata": {},
   "outputs": [],
   "source": []
  }
 ],
 "metadata": {
  "kernelspec": {
   "display_name": "Python 3",
   "language": "python",
   "name": "python3"
  },
  "language_info": {
   "codemirror_mode": {
    "name": "ipython",
    "version": 3
   },
   "file_extension": ".py",
   "mimetype": "text/x-python",
   "name": "python",
   "nbconvert_exporter": "python",
   "pygments_lexer": "ipython3",
   "version": "3.6.4"
  },
  "varInspector": {
   "cols": {
    "lenName": 16,
    "lenType": 16,
    "lenVar": 40
   },
   "kernels_config": {
    "python": {
     "delete_cmd_postfix": "",
     "delete_cmd_prefix": "del ",
     "library": "var_list.py",
     "varRefreshCmd": "print(var_dic_list())"
    },
    "r": {
     "delete_cmd_postfix": ") ",
     "delete_cmd_prefix": "rm(",
     "library": "var_list.r",
     "varRefreshCmd": "cat(var_dic_list()) "
    }
   },
   "types_to_exclude": [
    "module",
    "function",
    "builtin_function_or_method",
    "instance",
    "_Feature"
   ],
   "window_display": false
  }
 },
 "nbformat": 4,
 "nbformat_minor": 2
}
